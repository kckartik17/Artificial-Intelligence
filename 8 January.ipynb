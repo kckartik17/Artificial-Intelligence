{
 "cells": [
  {
   "cell_type": "markdown",
   "metadata": {},
   "source": [
    "# Exercise 1"
   ]
  },
  {
   "cell_type": "code",
   "execution_count": 2,
   "metadata": {},
   "outputs": [
    {
     "name": "stdout",
     "output_type": "stream",
     "text": [
      "Enter your name: nkg\n",
      "Enter date in MM-DD-YYYY formatsdgbjksdd\n",
      "Enter your favorite colorsdjgbkjs\n",
      "My name is nkg\n",
      "I was born sdgbjksdd\n",
      "My favorite color is sdjgbkjs\n"
     ]
    }
   ],
   "source": [
    "name = input(\"Enter your name: \")\n",
    "dob = input(\"Enter date in MM-DD-YYYY format\")\n",
    "color = input(\"Enter your favorite color\")\n",
    "print(\"My name is \" + name + \"\\nI was born \"+ dob + \"\\nMy favorite color is \"+ color)"
   ]
  },
  {
   "cell_type": "code",
   "execution_count": 7,
   "metadata": {},
   "outputs": [
    {
     "name": "stdout",
     "output_type": "stream",
     "text": [
      "Number of minutes in week are 10080 minutes\n"
     ]
    }
   ],
   "source": [
    "print(\"Number of minutes in week are \" + str(7*24*60) + \" minutes\")"
   ]
  },
  {
   "cell_type": "markdown",
   "metadata": {},
   "source": [
    "\n",
    "# Exercise 2"
   ]
  },
  {
   "cell_type": "code",
   "execution_count": 9,
   "metadata": {},
   "outputs": [
    {
     "name": "stdout",
     "output_type": "stream",
     "text": [
      "2.6666666666666665\n"
     ]
    }
   ],
   "source": [
    "print(8/3)"
   ]
  },
  {
   "cell_type": "code",
   "execution_count": 10,
   "metadata": {},
   "outputs": [
    {
     "name": "stdout",
     "output_type": "stream",
     "text": [
      "2\n"
     ]
    }
   ],
   "source": [
    "print(8%3)"
   ]
  },
  {
   "cell_type": "code",
   "execution_count": 13,
   "metadata": {},
   "outputs": [
    {
     "name": "stdout",
     "output_type": "stream",
     "text": [
      "2\n"
     ]
    }
   ],
   "source": [
    "import math\n",
    "print(math.floor(8/3))"
   ]
  },
  {
   "cell_type": "code",
   "execution_count": 14,
   "metadata": {},
   "outputs": [
    {
     "name": "stdout",
     "output_type": "stream",
     "text": [
      "1296\n"
     ]
    }
   ],
   "source": [
    "print(6**4)"
   ]
  },
  {
   "cell_type": "code",
   "execution_count": 18,
   "metadata": {},
   "outputs": [
    {
     "name": "stdout",
     "output_type": "stream",
     "text": [
      "17000000.0\n"
     ]
    }
   ],
   "source": [
    "print(17e6)"
   ]
  },
  {
   "cell_type": "markdown",
   "metadata": {},
   "source": [
    "# Exercise 3"
   ]
  },
  {
   "cell_type": "code",
   "execution_count": 21,
   "metadata": {},
   "outputs": [
    {
     "name": "stdout",
     "output_type": "stream",
     "text": [
      "I Love pizza!\n",
      "pizza pizza pizza pizza pizza pizza pizza pizza pizza pizza pizza pizza pizza pizza pizza pizza pizza pizza pizza pizza \n",
      "yumyumyumyumyumyumyumyumyumyumyumyumyumyumyumyumyumyumyumyumyumyumyumyumyumyumyumyumyumyumyumyumyumyumyumyumyumyumyumyum\n",
      "I'm full.\n"
     ]
    }
   ],
   "source": [
    "print(\"I Love pizza!\")\n",
    "print(\"pizza \"*20)\n",
    "print(\"yum\"*40)\n",
    "print(\"I'm full.\")"
   ]
  },
  {
   "cell_type": "markdown",
   "metadata": {},
   "source": [
    "# Exercise 4"
   ]
  },
  {
   "cell_type": "code",
   "execution_count": null,
   "metadata": {},
   "outputs": [
    {
     "name": "stdout",
     "output_type": "stream",
     "text": [
      "Hello! I'm the Computer, and I have a secret!\n",
      "It is a number from 1 to 99.  I'll give you 6 tries. \n",
      "What's your guess? 12\n",
      "Too low!\n"
     ]
    }
   ],
   "source": [
    "import random\n",
    "secret = random.randint(1, 99)     # Pick a secret number\n",
    "guess = 0\n",
    "tries = 0\n",
    "print (\"Hello! I'm the Computer, and I have a secret!\")\n",
    "print (\"It is a number from 1 to 99.  I'll give you 6 tries. \")\n",
    "\n",
    "# Allow up to 6 guesses\n",
    "while guess != secret and tries < 6:                \n",
    "    guess = int(input(\"What's your guess? \"))   # Get the player's guess\n",
    "    \n",
    "    if guess < secret:\n",
    "        print (\"Too low!\")\n",
    "    elif guess > secret:\n",
    "        print (\"Too high!\")\n",
    "\n",
    "    tries = tries + 1            # Use up one try               \n",
    "\n",
    "# Print message at end of game\n",
    "if guess == secret:                           \n",
    "    print (\"You got it!  Found my secret!\")\n",
    "else:\n",
    "    print (\"No more guesses!  Better luck next time!\")\n",
    "    print (\"The secret number was \"+ str(secret))\n"
   ]
  },
  {
   "cell_type": "markdown",
   "metadata": {},
   "source": [
    "# Exercise 5"
   ]
  },
  {
   "cell_type": "code",
   "execution_count": null,
   "metadata": {},
   "outputs": [],
   "source": [
    "answer = input()\n",
    "print(type(answer))"
   ]
  },
  {
   "cell_type": "markdown",
   "metadata": {},
   "source": [
    "# Exercise 6"
   ]
  },
  {
   "cell_type": "code",
   "execution_count": 2,
   "metadata": {},
   "outputs": [
    {
     "name": "stdout",
     "output_type": "stream",
     "text": [
      "5\n"
     ]
    }
   ],
   "source": [
    "a = 5\n",
    "print(a)"
   ]
  },
  {
   "cell_type": "code",
   "execution_count": 3,
   "metadata": {},
   "outputs": [
    {
     "name": "stdout",
     "output_type": "stream",
     "text": [
      "10\n"
     ]
    }
   ],
   "source": [
    "a = 5\n",
    "print(a + 5)"
   ]
  },
  {
   "cell_type": "code",
   "execution_count": 4,
   "metadata": {},
   "outputs": [
    {
     "name": "stdout",
     "output_type": "stream",
     "text": [
      "Kartik\n"
     ]
    }
   ],
   "source": [
    "a = \"Kartik\"\n",
    "print(a)"
   ]
  },
  {
   "cell_type": "code",
   "execution_count": 5,
   "metadata": {},
   "outputs": [
    {
     "name": "stdout",
     "output_type": "stream",
     "text": [
      "10080\n"
     ]
    }
   ],
   "source": [
    "days = 7\n",
    "hours = 24\n",
    "minutes = 60\n",
    "print(days*hours*minutes)"
   ]
  },
  {
   "cell_type": "code",
   "execution_count": 6,
   "metadata": {},
   "outputs": [
    {
     "name": "stdout",
     "output_type": "stream",
     "text": [
      "10920\n"
     ]
    }
   ],
   "source": [
    "days = 7\n",
    "hours = 26\n",
    "minutes = 60\n",
    "print(days*hours*minutes)"
   ]
  },
  {
   "cell_type": "markdown",
   "metadata": {},
   "source": [
    "# Exercise 7"
   ]
  },
  {
   "cell_type": "code",
   "execution_count": 7,
   "metadata": {},
   "outputs": [
    {
     "name": "stdout",
     "output_type": "stream",
     "text": [
      "Diksha Jain\n"
     ]
    }
   ],
   "source": [
    "first = \"Diksha \"\n",
    "last = \"Jain\"\n",
    "print(first + last)"
   ]
  },
  {
   "cell_type": "code",
   "execution_count": 8,
   "metadata": {},
   "outputs": [
    {
     "name": "stdout",
     "output_type": "stream",
     "text": [
      "Enter your first name: Kartik\n",
      "Enter your last name: Chauhan\n",
      "Hello Kartik Chauhan\n"
     ]
    }
   ],
   "source": [
    "firstname = input(\"Enter your first name: \")\n",
    "lastname = input(\"Enter your last name: \")\n",
    "print(\"Hello \"+ firstname + \" \" + lastname)"
   ]
  },
  {
   "cell_type": "code",
   "execution_count": 12,
   "metadata": {},
   "outputs": [
    {
     "name": "stdout",
     "output_type": "stream",
     "text": [
      "Enter length: 23\n",
      "Enter breadth: 234\n",
      "Carpet Area: 5382\n"
     ]
    }
   ],
   "source": [
    "length = int(input(\"Enter length: \"))\n",
    "breadth = int(input(\"Enter breadth: \"))\n",
    "print(\"Carpet Area: \" + str(length*breadth))"
   ]
  },
  {
   "cell_type": "code",
   "execution_count": 23,
   "metadata": {},
   "outputs": [
    {
     "name": "stdout",
     "output_type": "stream",
     "text": [
      "Enter length: 2\n",
      "Enter breadth: 3\n",
      "Enter cost : 2\n",
      "Carpet Area in sq. feet: 6\n",
      "Carpet Area in yards : 0.6666666666666666\n",
      "1.3333333333333333\n"
     ]
    }
   ],
   "source": [
    "length = int(input(\"Enter length: \"))\n",
    "breadth = int(input(\"Enter breadth: \"))\n",
    "cost = int(input(\"Enter cost : \"))\n",
    "print(\"Carpet Area in sq. feet: \" + str(length*breadth))\n",
    "print(\"Carpet Area in yards : \" + str((length*breadth)/9))\n",
    "totalcst = cost * ((length*breadth)/9)\n",
    "print(totalcst)"
   ]
  },
  {
   "cell_type": "markdown",
   "metadata": {},
   "source": [
    "# Exercise 8"
   ]
  },
  {
   "cell_type": "code",
   "execution_count": 25,
   "metadata": {},
   "outputs": [
    {
     "name": "stdout",
     "output_type": "stream",
     "text": [
      "<class 'float'>\n"
     ]
    }
   ],
   "source": [
    "num = \"12.34\"\n",
    "floatnum = float(num)\n",
    "print(type(floatnum))"
   ]
  },
  {
   "cell_type": "code",
   "execution_count": 26,
   "metadata": {},
   "outputs": [
    {
     "name": "stdout",
     "output_type": "stream",
     "text": [
      "56\n"
     ]
    }
   ],
   "source": [
    "num = 56.78\n",
    "print(int(num))"
   ]
  },
  {
   "cell_type": "code",
   "execution_count": 27,
   "metadata": {},
   "outputs": [
    {
     "name": "stdout",
     "output_type": "stream",
     "text": [
      "<class 'int'>\n"
     ]
    }
   ],
   "source": [
    "num = \"23\"\n",
    "print(type(int(num)))"
   ]
  },
  {
   "cell_type": "markdown",
   "metadata": {},
   "source": [
    "# Exercise 9"
   ]
  },
  {
   "cell_type": "code",
   "execution_count": 30,
   "metadata": {},
   "outputs": [
    {
     "name": "stdout",
     "output_type": "stream",
     "text": [
      "Enter: 34.4\n",
      "34\n"
     ]
    }
   ],
   "source": [
    "num = input(\"Enter: \")\n",
    "arr = num.split(\".\")\n",
    "if(int(arr[1]) > 5):\n",
    "    print(int(arr[0])+1)\n",
    "else:\n",
    "    print(arr[0])"
   ]
  },
  {
   "cell_type": "code",
   "execution_count": 34,
   "metadata": {},
   "outputs": [
    {
     "name": "stdout",
     "output_type": "stream",
     "text": [
      "Enter: 23.3\n",
      "23\n"
     ]
    }
   ],
   "source": [
    "num = float(input(\"Enter: \"))\n",
    "print(int(num))"
   ]
  }
 ],
 "metadata": {
  "kernelspec": {
   "display_name": "Python 3",
   "language": "python",
   "name": "python3"
  },
  "language_info": {
   "codemirror_mode": {
    "name": "ipython",
    "version": 3
   },
   "file_extension": ".py",
   "mimetype": "text/x-python",
   "name": "python",
   "nbconvert_exporter": "python",
   "pygments_lexer": "ipython3",
   "version": "3.6.5"
  }
 },
 "nbformat": 4,
 "nbformat_minor": 2
}
