{
 "cells": [
  {
   "cell_type": "code",
   "execution_count": 1,
   "metadata": {},
   "outputs": [
    {
     "name": "stdout",
     "output_type": "stream",
     "text": [
      "Enter 5 names : \n",
      "Kartik\n",
      "Kushal\n",
      "Aakansha\n",
      "Diksha\n",
      "Vinita\n",
      "['Kartik', 'Kushal', 'Aakansha', 'Diksha', 'Vinita']\n",
      "['Aakansha', 'Diksha', 'Kartik', 'Kushal', 'Vinita']\n"
     ]
    }
   ],
   "source": [
    "print(\"Enter 5 names : \")\n",
    "list = []\n",
    "for i in range(0,5):\n",
    "    list.append(input())\n",
    "print(list)\n",
    "list.sort()\n",
    "print(list)"
   ]
  },
  {
   "cell_type": "code",
   "execution_count": 2,
   "metadata": {},
   "outputs": [
    {
     "name": "stdout",
     "output_type": "stream",
     "text": [
      "Enter 5 names : \n",
      "Kartik\n",
      "Kushal\n",
      "Aakansha\n",
      "Diksha\n",
      "Vinita\n",
      "The names are: Kartik Kushal Aakansha Diksha Vinita "
     ]
    }
   ],
   "source": [
    "print(\"Enter 5 names : \")\n",
    "list = []\n",
    "for i in range(0,5):\n",
    "    list.append(input())\n",
    "i = 0\n",
    "print(\"The names are:\",end=\" \")\n",
    "while i < len(list):\n",
    "    print(list[i],end=\" \")\n",
    "    i = i + 1"
   ]
  },
  {
   "cell_type": "code",
   "execution_count": 3,
   "metadata": {},
   "outputs": [
    {
     "name": "stdout",
     "output_type": "stream",
     "text": [
      "Enter 5 names : \n",
      "Kartik\n",
      "Kushal\n",
      "Aakansha\n",
      "Diksha\n",
      "Vinita\n",
      "The third name is : Aakansha\n"
     ]
    }
   ],
   "source": [
    "print(\"Enter 5 names : \")\n",
    "list = []\n",
    "for i in range(0,5):\n",
    "    list.append(input())\n",
    "print(\"The third name is : \" + list[2])"
   ]
  },
  {
   "cell_type": "code",
   "execution_count": 4,
   "metadata": {},
   "outputs": [
    {
     "name": "stdout",
     "output_type": "stream",
     "text": [
      "Enter 5 names : \n",
      "Kartik\n",
      "Kushal\n",
      "Aakansha\n",
      "Diksha\n",
      "Vinita\n",
      "The names are: Kartik Kushal Aakansha Diksha Vinita Replace one name 1-5 ? : \n",
      "2\n",
      "Enter new name: Aishwarya\n",
      "Kartik Aishwarya Aakansha Diksha Vinita "
     ]
    }
   ],
   "source": [
    "print(\"Enter 5 names : \")\n",
    "list = []\n",
    "for i in range(0,5):\n",
    "    list.append(input())\n",
    "i = 0\n",
    "print(\"The names are:\",end=\" \")\n",
    "while i < len(list):\n",
    "    print(list[i],end=\" \")\n",
    "    i = i + 1\n",
    "print(\"Replace one name 1-5 ? : \")\n",
    "replace = int(input())\n",
    "new = input(\"Enter new name: \")\n",
    "list[replace - 1] = new\n",
    "i = 0\n",
    "while i < len(list):\n",
    "    print(list[i],end=\" \")\n",
    "    i = i + 1"
   ]
  },
  {
   "cell_type": "code",
   "execution_count": 8,
   "metadata": {},
   "outputs": [
    {
     "name": "stdout",
     "output_type": "stream",
     "text": [
      "Add or look a or l : ? a\n",
      "Enter the word: Kartik\n",
      "Enter definition: Chauhan\n",
      "Add or look a or l : ? a\n",
      "Enter the word: Diksha\n",
      "Enter definition: Jain\n",
      "Add or look a or l : ? l\n",
      "type word: Diksha\n",
      "Jain\n",
      "Add or look a or l : ? Lucky\n",
      "Add or look a or l : ? l\n",
      "type word: Lucky\n",
      "That word isn't in the dictionary yet.\n"
     ]
    }
   ],
   "source": [
    "dic = {}\n",
    "while True:\n",
    "    choice = input(\"Add or look a or l : ? \")\n",
    "    if(choice == 'a'):\n",
    "        word = input(\"Enter the word: \")\n",
    "        definition = input(\"Enter definition: \")\n",
    "        dic[word] = definition\n",
    "    elif(choice == 'l'):\n",
    "        word = input('type word: ')\n",
    "        try:\n",
    "            print(dic[word])\n",
    "        except:\n",
    "            print(\"That word isn't in the dictionary yet.\")\n",
    "            break"
   ]
  },
  {
   "cell_type": "markdown",
   "metadata": {},
   "source": [
    "## Decisions"
   ]
  },
  {
   "cell_type": "code",
   "execution_count": 9,
   "metadata": {},
   "outputs": [
    {
     "name": "stdout",
     "output_type": "stream",
     "text": [
      "enter the price\n",
      "25\n",
      "discount is 20%\n"
     ]
    }
   ],
   "source": [
    "print(\"enter the price\")\n",
    "price= int(input())\n",
    "if(price<10):\n",
    "    print(\"discount is 10%\")\n",
    "else:\n",
    "    print(\"discount is 20%\")"
   ]
  },
  {
   "cell_type": "code",
   "execution_count": 10,
   "metadata": {},
   "outputs": [
    {
     "name": "stdout",
     "output_type": "stream",
     "text": [
      "enter age: 13\n",
      "enter male or female: male\n",
      "you are not eligible\n"
     ]
    }
   ],
   "source": [
    "age = int(input(\"enter age: \"))\n",
    "sex = input(\"enter male or female: \")\n",
    "if(age >= 10 and age <=12 and sex == \"female\"):\n",
    "    print(\"you are eligible\")\n",
    "else:\n",
    "    print(\"you are not eligible\")"
   ]
  },
  {
   "cell_type": "code",
   "execution_count": 11,
   "metadata": {},
   "outputs": [
    {
     "name": "stdout",
     "output_type": "stream",
     "text": [
      "Enter size of gas tank : 100\n",
      "How full is your tank: 20\n",
      "how many km per lt. car gets: 5\n",
      "get fuel now\n"
     ]
    }
   ],
   "source": [
    "tank = int(input(\"Enter size of gas tank : \"))\n",
    "full = int(input(\"How full is your tank: \"))\n",
    "km = int(input(\"how many km per lt. car gets: \"))\n",
    "travel = full/100*tank*km\n",
    "if travel<200:\n",
    "    print(\"get fuel now\")\n",
    "else:\n",
    "    print(\"you can go\")"
   ]
  },
  {
   "cell_type": "code",
   "execution_count": 12,
   "metadata": {},
   "outputs": [
    {
     "name": "stdout",
     "output_type": "stream",
     "text": [
      "Enter the password234\n",
      "get lost\n"
     ]
    }
   ],
   "source": [
    "password = 123\n",
    "passcode = int(input(\"Enter the password\"))\n",
    "if passcode == password:\n",
    "    print(\"you are in\")\n",
    "else:\n",
    "    print(\"get lost\")"
   ]
  },
  {
   "cell_type": "markdown",
   "metadata": {},
   "source": [
    "# Loops"
   ]
  },
  {
   "cell_type": "code",
   "execution_count": 13,
   "metadata": {},
   "outputs": [
    {
     "name": "stdout",
     "output_type": "stream",
     "text": [
      "Which multiplication would you like ?5\n",
      "5 X 1 = 5\n",
      "5 X 2 = 10\n",
      "5 X 3 = 15\n",
      "5 X 4 = 20\n",
      "5 X 5 = 25\n",
      "5 X 6 = 30\n",
      "5 X 7 = 35\n",
      "5 X 8 = 40\n",
      "5 X 9 = 45\n",
      "5 X 10 = 50\n"
     ]
    }
   ],
   "source": [
    "number = int(input(\"Which multiplication would you like ?\"))\n",
    "i = 1\n",
    "while i<=10:\n",
    "    print(str(number) + \" X \" + str(i) + \" = \" + str(number*i))\n",
    "    i = i + 1"
   ]
  },
  {
   "cell_type": "code",
   "execution_count": 14,
   "metadata": {},
   "outputs": [
    {
     "name": "stdout",
     "output_type": "stream",
     "text": [
      "Which multiplication would you like ?5\n",
      "5 X 0 = 0\n",
      "5 X 1 = 5\n",
      "5 X 2 = 10\n",
      "5 X 3 = 15\n",
      "5 X 4 = 20\n",
      "5 X 5 = 25\n",
      "5 X 6 = 30\n",
      "5 X 7 = 35\n",
      "5 X 8 = 40\n",
      "5 X 9 = 45\n"
     ]
    }
   ],
   "source": [
    "number = int(input(\"Which multiplication would you like ?\"))\n",
    "for i in range(0,10):\n",
    "    print(str(number) + \" X \" + str(i) + \" = \" + str(number*i))"
   ]
  },
  {
   "cell_type": "code",
   "execution_count": 15,
   "metadata": {},
   "outputs": [
    {
     "name": "stdout",
     "output_type": "stream",
     "text": [
      "Which multiplication would you like ?5\n",
      "How high do you want to go12\n",
      "5 X 0 = 0\n",
      "5 X 1 = 5\n",
      "5 X 2 = 10\n",
      "5 X 3 = 15\n",
      "5 X 4 = 20\n",
      "5 X 5 = 25\n",
      "5 X 6 = 30\n",
      "5 X 7 = 35\n",
      "5 X 8 = 40\n",
      "5 X 9 = 45\n",
      "5 X 10 = 50\n",
      "5 X 11 = 55\n",
      "5 X 12 = 60\n"
     ]
    }
   ],
   "source": [
    "number = int(input(\"Which multiplication would you like ?\"))\n",
    "j = int(input(\"How high do you want to go\"))\n",
    "i = 0\n",
    "while i<=j:\n",
    "    print(str(number) + \" X \" + str(i) + \" = \" + str(number*i))\n",
    "    i = i + 1"
   ]
  }
 ],
 "metadata": {
  "kernelspec": {
   "display_name": "Python 3",
   "language": "python",
   "name": "python3"
  },
  "language_info": {
   "codemirror_mode": {
    "name": "ipython",
    "version": 3
   },
   "file_extension": ".py",
   "mimetype": "text/x-python",
   "name": "python",
   "nbconvert_exporter": "python",
   "pygments_lexer": "ipython3",
   "version": "3.7.1"
  }
 },
 "nbformat": 4,
 "nbformat_minor": 2
}
