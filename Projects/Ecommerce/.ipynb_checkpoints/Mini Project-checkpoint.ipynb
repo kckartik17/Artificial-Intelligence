{
 "cells": [
  {
   "cell_type": "code",
   "execution_count": 1,
   "metadata": {},
   "outputs": [],
   "source": [
    "import pandas as pd"
   ]
  },
  {
   "cell_type": "code",
   "execution_count": 4,
   "metadata": {},
   "outputs": [],
   "source": [
    "ecom = pd.read_csv('Ecommerce Purchases.csv')"
   ]
  },
  {
   "attachments": {},
   "cell_type": "markdown",
   "metadata": {},
   "source": [
    "How many people have 'Financial Manager' as their Job on the website?"
   ]
  },
  {
   "cell_type": "code",
   "execution_count": 10,
   "metadata": {},
   "outputs": [
    {
     "data": {
      "text/plain": [
       "17"
      ]
     },
     "execution_count": 10,
     "metadata": {},
     "output_type": "execute_result"
    }
   ],
   "source": [
    "ecom[ecom['Job']=='Financial manager'].count()[0]"
   ]
  },
  {
   "cell_type": "markdown",
   "metadata": {},
   "source": [
    "Someone made a purchase that came from Lot: \"94 vE\" , which company made this transaction?"
   ]
  },
  {
   "cell_type": "code",
   "execution_count": 11,
   "metadata": {},
   "outputs": [
    {
     "data": {
      "text/plain": [
       "2    Simpson, Williams and Pham\n",
       "Name: Company, dtype: object"
      ]
     },
     "execution_count": 11,
     "metadata": {},
     "output_type": "execute_result"
    }
   ],
   "source": [
    "ecom[ecom['Lot']=='94 vE']['Company']"
   ]
  },
  {
   "cell_type": "markdown",
   "metadata": {},
   "source": [
    "Count the email Ids made on gmail ?"
   ]
  },
  {
   "cell_type": "code",
   "execution_count": 18,
   "metadata": {},
   "outputs": [
    {
     "data": {
      "text/plain": [
       "1605"
      ]
     },
     "execution_count": 18,
     "metadata": {},
     "output_type": "execute_result"
    }
   ],
   "source": [
    "ecom[ecom['Email'].apply(lambda email:email.split('@')[1]=='gmail.com')].count()[0]"
   ]
  },
  {
   "cell_type": "markdown",
   "metadata": {},
   "source": [
    "What is the ip address of the person with the following Credit Card Number: 4926535242672853"
   ]
  },
  {
   "cell_type": "code",
   "execution_count": 22,
   "metadata": {},
   "outputs": [
    {
     "data": {
      "text/plain": [
       "1234    159.182.3.50\n",
       "Name: IP Address, dtype: object"
      ]
     },
     "execution_count": 22,
     "metadata": {},
     "output_type": "execute_result"
    }
   ],
   "source": [
    "ecom[ecom[\"Credit Card\"] == 4926535242672853]['IP Address'] "
   ]
  },
  {
   "cell_type": "markdown",
   "metadata": {},
   "source": [
    "What is the average purchase price of people speaking english language? "
   ]
  },
  {
   "cell_type": "code",
   "execution_count": 29,
   "metadata": {},
   "outputs": [
    {
     "data": {
      "text/plain": [
       "51.103014571949"
      ]
     },
     "execution_count": 29,
     "metadata": {},
     "output_type": "execute_result"
    }
   ],
   "source": [
    "ecom[(ecom['Language']=='en')]['Purchase Price'].mean()"
   ]
  },
  {
   "cell_type": "markdown",
   "metadata": {},
   "source": [
    "What is name of the company who made the highest purchase?"
   ]
  },
  {
   "cell_type": "code",
   "execution_count": 46,
   "metadata": {},
   "outputs": [
    {
     "data": {
      "text/html": [
       "<div>\n",
       "<style scoped>\n",
       "    .dataframe tbody tr th:only-of-type {\n",
       "        vertical-align: middle;\n",
       "    }\n",
       "\n",
       "    .dataframe tbody tr th {\n",
       "        vertical-align: top;\n",
       "    }\n",
       "\n",
       "    .dataframe thead th {\n",
       "        text-align: right;\n",
       "    }\n",
       "</style>\n",
       "<table border=\"1\" class=\"dataframe\">\n",
       "  <thead>\n",
       "    <tr style=\"text-align: right;\">\n",
       "      <th></th>\n",
       "      <th>Address</th>\n",
       "      <th>Lot</th>\n",
       "      <th>AM or PM</th>\n",
       "      <th>Browser Info</th>\n",
       "      <th>Company</th>\n",
       "      <th>Credit Card</th>\n",
       "      <th>CC Exp Date</th>\n",
       "      <th>CC Security Code</th>\n",
       "      <th>CC Provider</th>\n",
       "      <th>Email</th>\n",
       "      <th>Job</th>\n",
       "      <th>IP Address</th>\n",
       "      <th>Language</th>\n",
       "      <th>Purchase Price</th>\n",
       "    </tr>\n",
       "  </thead>\n",
       "  <tbody>\n",
       "    <tr>\n",
       "      <th>2092</th>\n",
       "      <td>63773 Shelton Greens\\nAshleyton, MA 00493</td>\n",
       "      <td>56 lu</td>\n",
       "      <td>AM</td>\n",
       "      <td>Mozilla/5.0 (X11; Linux x86_64) AppleWebKit/53...</td>\n",
       "      <td>Pitts Group</td>\n",
       "      <td>4292741269160</td>\n",
       "      <td>06/18</td>\n",
       "      <td>824</td>\n",
       "      <td>Maestro</td>\n",
       "      <td>heatherwoodard@lloyd.com</td>\n",
       "      <td>Surveyor, hydrographic</td>\n",
       "      <td>172.197.216.229</td>\n",
       "      <td>el</td>\n",
       "      <td>99.99</td>\n",
       "    </tr>\n",
       "    <tr>\n",
       "      <th>7807</th>\n",
       "      <td>PSC 6177, Box 1004\\nAPO AA 57143-1269</td>\n",
       "      <td>64 Nf</td>\n",
       "      <td>AM</td>\n",
       "      <td>Mozilla/5.0 (Macintosh; Intel Mac OS X 10_5_4)...</td>\n",
       "      <td>Porter, Johnson and Pratt</td>\n",
       "      <td>30109394842259</td>\n",
       "      <td>11/25</td>\n",
       "      <td>918</td>\n",
       "      <td>VISA 16 digit</td>\n",
       "      <td>kelli72@gmail.com</td>\n",
       "      <td>Surveyor, insurance</td>\n",
       "      <td>89.51.92.242</td>\n",
       "      <td>de</td>\n",
       "      <td>99.99</td>\n",
       "    </tr>\n",
       "  </tbody>\n",
       "</table>\n",
       "</div>"
      ],
      "text/plain": [
       "                                        Address    Lot AM or PM  \\\n",
       "2092  63773 Shelton Greens\\nAshleyton, MA 00493  56 lu       AM   \n",
       "7807      PSC 6177, Box 1004\\nAPO AA 57143-1269  64 Nf       AM   \n",
       "\n",
       "                                           Browser Info  \\\n",
       "2092  Mozilla/5.0 (X11; Linux x86_64) AppleWebKit/53...   \n",
       "7807  Mozilla/5.0 (Macintosh; Intel Mac OS X 10_5_4)...   \n",
       "\n",
       "                        Company     Credit Card CC Exp Date  CC Security Code  \\\n",
       "2092                Pitts Group   4292741269160       06/18               824   \n",
       "7807  Porter, Johnson and Pratt  30109394842259       11/25               918   \n",
       "\n",
       "        CC Provider                     Email                     Job  \\\n",
       "2092        Maestro  heatherwoodard@lloyd.com  Surveyor, hydrographic   \n",
       "7807  VISA 16 digit         kelli72@gmail.com     Surveyor, insurance   \n",
       "\n",
       "           IP Address Language  Purchase Price  \n",
       "2092  172.197.216.229       el           99.99  \n",
       "7807     89.51.92.242       de           99.99  "
      ]
     },
     "execution_count": 46,
     "metadata": {},
     "output_type": "execute_result"
    }
   ],
   "source": [
    "ecom[ecom['Purchase Price'] == ecom['Purchase Price'].max()]"
   ]
  },
  {
   "cell_type": "markdown",
   "metadata": {},
   "source": [
    "no. of unique Companies ? "
   ]
  },
  {
   "cell_type": "code",
   "execution_count": 41,
   "metadata": {},
   "outputs": [
    {
     "data": {
      "text/plain": [
       "623"
      ]
     },
     "execution_count": 41,
     "metadata": {},
     "output_type": "execute_result"
    }
   ],
   "source": [
    "ecom['Job'].nunique()"
   ]
  },
  {
   "cell_type": "markdown",
   "metadata": {},
   "source": [
    "How many people have word manager in their job title ? "
   ]
  },
  {
   "cell_type": "code",
   "execution_count": 45,
   "metadata": {},
   "outputs": [
    {
     "data": {
      "text/plain": [
       "10000"
      ]
     },
     "execution_count": 45,
     "metadata": {},
     "output_type": "execute_result"
    }
   ],
   "source": [
    "ecom['Job'].apply(lambda job:'manager' in job).count()"
   ]
  }
 ],
 "metadata": {
  "kernelspec": {
   "display_name": "Python 3",
   "language": "python",
   "name": "python3"
  },
  "language_info": {
   "codemirror_mode": {
    "name": "ipython",
    "version": 3
   },
   "file_extension": ".py",
   "mimetype": "text/x-python",
   "name": "python",
   "nbconvert_exporter": "python",
   "pygments_lexer": "ipython3",
   "version": "3.7.1"
  }
 },
 "nbformat": 4,
 "nbformat_minor": 2
}
